{
  "nbformat": 4,
  "nbformat_minor": 0,
  "metadata": {
    "colab": {
      "provenance": [],
      "authorship_tag": "ABX9TyN1eNz8MeTd2Xm1Ys/pkol7",
      "include_colab_link": true
    },
    "kernelspec": {
      "name": "python3",
      "display_name": "Python 3"
    },
    "language_info": {
      "name": "python"
    }
  },
  "cells": [
    {
      "cell_type": "markdown",
      "metadata": {
        "id": "view-in-github",
        "colab_type": "text"
      },
      "source": [
        "<a href=\"https://colab.research.google.com/github/shyamlalh1/shyam-ict/blob/main/Untitled12.ipynb\" target=\"_parent\"><img src=\"https://colab.research.google.com/assets/colab-badge.svg\" alt=\"Open In Colab\"/></a>"
      ]
    },
    {
      "cell_type": "code",
      "execution_count": null,
      "metadata": {
        "colab": {
          "base_uri": "https://localhost:8080/"
        },
        "id": "3GBD85Uf06Ud",
        "outputId": "69c19346-21c5-4a74-b8dc-bef45ce214cd"
      },
      "outputs": [
        {
          "output_type": "stream",
          "name": "stdout",
          "text": [
            "enter the radius of the circle3\n",
            "The area of the circle having radius 3.0 is 28.285714285714285\n"
          ]
        }
      ],
      "source": [
        "#assignment 1\n",
        "#question no. 1\n",
        "#program which accepts the radius of a circle from the user and compute the area of a circle\n",
        "r=float(input('enter the radius of the circle'))\n",
        "area= 22*r*r/7\n",
        "print('The area of the circle having radius' , r , 'is', area)"
      ]
    },
    {
      "cell_type": "code",
      "source": [
        "#assignment 1\n",
        "#question no. 2\n",
        "#Python Program to accept the details of a student like name, rollnumber and mark and display it.\n",
        "\n",
        "a=str(input('Enter the name'))\n",
        "b=int(input('Enter the roll number'))\n",
        "c=float(input('Enter the mark'))\n",
        "\n",
        "print('Name    :',a)\n",
        "print('Roll.no.:' , b)\n",
        "print('Mark    :', c)\n"
      ],
      "metadata": {
        "colab": {
          "base_uri": "https://localhost:8080/"
        },
        "id": "FAPfz_Zn4hxx",
        "outputId": "5815b2c4-5b65-4c70-e7da-f4a8f9014a56"
      },
      "execution_count": null,
      "outputs": [
        {
          "output_type": "stream",
          "name": "stdout",
          "text": [
            "Enter the nameshyam\n",
            "Enter the roll number59\n",
            "Enter the mark65.67\n",
            "Name    : shyam\n",
            "Roll.no.: 59\n",
            "Mark    : 65.67\n"
          ]
        }
      ]
    },
    {
      "cell_type": "code",
      "source": [
        "\n",
        "#assignment 1\n",
        "#question no. 3\n",
        "#Python program to get the largest number from a list\n",
        "numbers_list = [int(num)\n",
        "for num in input(\"Enter numbers separated by commas: \").split(',')]\n",
        "print(\"Largest number:\", max(numbers_list))"
      ],
      "metadata": {
        "colab": {
          "base_uri": "https://localhost:8080/"
        },
        "id": "3GeQ--8m-ikd",
        "outputId": "1104460d-c1e0-4458-c9c0-774f4ac57035"
      },
      "execution_count": null,
      "outputs": [
        {
          "output_type": "stream",
          "name": "stdout",
          "text": [
            "Enter numbers separated by commas: 27,83,96,75,42\n",
            "Largest number: 96\n"
          ]
        }
      ]
    },
    {
      "cell_type": "code",
      "source": [
        "#assignment 1\n",
        "#question no. 4\n",
        "#program to iterate fromstart number to the end number and print the sum of the current number and previous number.\n",
        "prev_no = 0\n",
        "\n",
        "for current_no in range(1, 11):\n",
        "    print(f\"Current Number is {current_no} and the Previous Number is {prev_no} Sum: {current_no + prev_no}\")\n",
        "    prev_no = current_no"
      ],
      "metadata": {
        "colab": {
          "base_uri": "https://localhost:8080/"
        },
        "id": "p_kBt7BIAuPd",
        "outputId": "b7a8ea3f-28c0-45e2-c0a4-2a0a13104127"
      },
      "execution_count": null,
      "outputs": [
        {
          "output_type": "stream",
          "name": "stdout",
          "text": [
            "Current Number is 1 and the Previous Number is 0 Sum: 1\n",
            "Current Number is 2 and the Previous Number is 1 Sum: 3\n",
            "Current Number is 3 and the Previous Number is 2 Sum: 5\n",
            "Current Number is 4 and the Previous Number is 3 Sum: 7\n",
            "Current Number is 5 and the Previous Number is 4 Sum: 9\n",
            "Current Number is 6 and the Previous Number is 5 Sum: 11\n",
            "Current Number is 7 and the Previous Number is 6 Sum: 13\n",
            "Current Number is 8 and the Previous Number is 7 Sum: 15\n",
            "Current Number is 9 and the Previous Number is 8 Sum: 17\n",
            "Current Number is 10 and the Previous Number is 9 Sum: 19\n"
          ]
        }
      ]
    },
    {
      "cell_type": "code",
      "source": [
        "#assignment 1\n",
        "#question no. 5\n",
        "#program to print only those numbers which are divisible of 5.\n",
        "\n",
        "\n",
        "input_no = input(\"Enter numbers: \")\n",
        "numbers = [int(num) for num in input_no.split(',')]\n",
        "\n",
        "div_by_5 = []\n",
        "for num in numbers:\n",
        "    if num % 5 == 0:\n",
        "        div_by_5.append(num)\n",
        "\n",
        "if len(div_by_5) > 0:\n",
        "    print(\"Numbers divisible by 5:\", \", \".join(map(str, div_by_5)))"
      ],
      "metadata": {
        "colab": {
          "base_uri": "https://localhost:8080/"
        },
        "id": "-KuuIKbVBuml",
        "outputId": "d8a72845-fbe9-4c66-bf37-b1412ae489fb"
      },
      "execution_count": null,
      "outputs": [
        {
          "output_type": "stream",
          "name": "stdout",
          "text": [
            "Enter numbers: 23,72,85,105,28,725,15\n",
            "Numbers divisible by 5: 85, 105, 725, 15\n"
          ]
        }
      ]
    },
    {
      "cell_type": "code",
      "source": [
        "#assignment 1\n",
        "#question no. 6\n",
        "#Python program to check whether a number is prime or not\n",
        "def is_prime(number):\n",
        "    if number <= 1:\n",
        "        return False\n",
        "    for i in range(2, number):\n",
        "        if number % i == 0:\n",
        "            return False\n",
        "    return True\n",
        "\n",
        "num = int(input(\"Enter the number: \"))\n",
        "\n",
        "if is_prime(num):\n",
        "    print(f\"{num} is a prime number.\")\n",
        "else:\n",
        "    print(f\"{num} is not a prime number.\")"
      ],
      "metadata": {
        "colab": {
          "base_uri": "https://localhost:8080/"
        },
        "id": "MzdHS1FCB_Z7",
        "outputId": "c996e15e-0ab6-4d14-b6a8-48e619575cbc"
      },
      "execution_count": null,
      "outputs": [
        {
          "output_type": "stream",
          "name": "stdout",
          "text": [
            "Enter the number: 27\n",
            "27 is not a prime number.\n"
          ]
        }
      ]
    },
    {
      "cell_type": "code",
      "source": [
        "#assignment 1\n",
        "#question no. 7\n",
        "#Python program to reverse a list using for loop\n",
        "input_list = input(\"Enter elements of the list separated by commas: \").split(',')\n",
        "reversed_list = [input_list[i] for i in range(len(input_list) - 1, -1, -1)]\n",
        "print(\"Reversed list:\", \", \".join(reversed_list))\n"
      ],
      "metadata": {
        "colab": {
          "base_uri": "https://localhost:8080/"
        },
        "id": "6EWmlYopCI-K",
        "outputId": "a538aab1-3f55-4836-f8f3-b17427b6acb4"
      },
      "execution_count": null,
      "outputs": [
        {
          "output_type": "stream",
          "name": "stdout",
          "text": [
            "Enter elements of the list separated by commas: 78,92,45,12\n",
            "Reversed list: 12, 45, 92, 78\n"
          ]
        }
      ]
    },
    {
      "cell_type": "code",
      "source": [
        "#assignment 1\n",
        "#question no. 8\n",
        "#to print the given pattern\n",
        "def print_pattern(rows):\n",
        "    for i in range(1, rows + 1):\n",
        "        print('*' * i)\n",
        "\n",
        "print_pattern(7)\n"
      ],
      "metadata": {
        "colab": {
          "base_uri": "https://localhost:8080/"
        },
        "id": "VnnT6lBDCK4z",
        "outputId": "abd8ed38-d8d8-4263-dbeb-90fabb67a1b9"
      },
      "execution_count": null,
      "outputs": [
        {
          "output_type": "stream",
          "name": "stdout",
          "text": [
            "*\n",
            "**\n",
            "***\n",
            "****\n",
            "*****\n",
            "******\n",
            "*******\n"
          ]
        }
      ]
    },
    {
      "cell_type": "code",
      "source": [
        "#assignment 1\n",
        "#question no. 9\n",
        "#Python program to find the maximum of three numbers\n",
        "a = input(\"Enter three numbers separated by commas: \").split(',')\n",
        "num1, num2, num3 = map(int, a)\n",
        "\n",
        "maximum = max(num1, num2, num3)\n",
        "\n",
        "print(\"The maximum number is:\", maximum)\n"
      ],
      "metadata": {
        "colab": {
          "base_uri": "https://localhost:8080/"
        },
        "id": "eaQmolfCCLoV",
        "outputId": "5ef5f545-1dcd-4169-ed6d-6edb4194ffcc"
      },
      "execution_count": null,
      "outputs": [
        {
          "output_type": "stream",
          "name": "stdout",
          "text": [
            "Enter three numbers separated by commas: 72,16,89\n",
            "The maximum number is: 89\n"
          ]
        }
      ]
    },
    {
      "cell_type": "code",
      "source": [
        "#assignment 1\n",
        "#question no. 10\n",
        "#Python program to construct the given pattern, using a nested for loop.\n",
        "def print_pattern(rows):\n",
        "    for i in range(1, rows + 1):\n",
        "        print('*' * i)\n",
        "\n",
        "    for i in range(rows - 1, 0, -1):\n",
        "        print('*' * i)\n",
        "\n",
        "rows = 5\n",
        "print_pattern(rows)"
      ],
      "metadata": {
        "colab": {
          "base_uri": "https://localhost:8080/"
        },
        "id": "inQ9apVpCQM3",
        "outputId": "6f9e6678-d65b-4c29-e65c-3b21b7dbbb8f"
      },
      "execution_count": null,
      "outputs": [
        {
          "output_type": "stream",
          "name": "stdout",
          "text": [
            "*\n",
            "**\n",
            "***\n",
            "****\n",
            "*****\n",
            "****\n",
            "***\n",
            "**\n",
            "*\n"
          ]
        }
      ]
    },
    {
      "cell_type": "code",
      "source": [
        "a=\"abcd\"\n",
        "b=\"p\"\n",
        "while b in a:\n",
        "  print(b,end=\" \")"
      ],
      "metadata": {
        "id": "IUOObFIqQcB3"
      },
      "execution_count": null,
      "outputs": []
    },
    {
      "cell_type": "code",
      "source": [
        "a={1:1,2:'2','1':1,'2':3}\n",
        "a['1']=2\n",
        "print(a[a[a[str(a[1])]]])"
      ],
      "metadata": {
        "colab": {
          "base_uri": "https://localhost:8080/"
        },
        "id": "d8a1UnM5Qvuq",
        "outputId": "297f1aa7-7159-4577-8230-3f02c3feadb7"
      },
      "execution_count": null,
      "outputs": [
        {
          "output_type": "stream",
          "name": "stdout",
          "text": [
            "3\n"
          ]
        }
      ]
    },
    {
      "cell_type": "code",
      "source": [
        "print(print(print(\"hello world\")))"
      ],
      "metadata": {
        "colab": {
          "base_uri": "https://localhost:8080/"
        },
        "id": "vGXxPTimRff8",
        "outputId": "f5f1edaa-fbfe-4f87-9083-be4cc80e3e9e"
      },
      "execution_count": null,
      "outputs": [
        {
          "output_type": "stream",
          "name": "stdout",
          "text": [
            "hello world\n",
            "None\n",
            "None\n"
          ]
        }
      ]
    },
    {
      "cell_type": "code",
      "source": [
        "print(round(8.479))"
      ],
      "metadata": {
        "colab": {
          "base_uri": "https://localhost:8080/"
        },
        "id": "zOFr0ZGBRot1",
        "outputId": "d20d8f86-99ac-4f10-ee66-763fe37d4910"
      },
      "execution_count": null,
      "outputs": [
        {
          "output_type": "stream",
          "name": "stdout",
          "text": [
            "8\n"
          ]
        }
      ]
    },
    {
      "cell_type": "code",
      "source": [
        "l=list(\"ictak kerala\")\n",
        "print(l[8:-1])"
      ],
      "metadata": {
        "colab": {
          "base_uri": "https://localhost:8080/"
        },
        "id": "SdbM0ICiRvrk",
        "outputId": "864ad843-1499-4289-d966-8ba3c65d9c42"
      },
      "execution_count": null,
      "outputs": [
        {
          "output_type": "stream",
          "name": "stdout",
          "text": [
            "['r', 'a', 'l']\n"
          ]
        }
      ]
    },
    {
      "cell_type": "code",
      "source": [
        "colours=['g' ,'p' ,'r']\n",
        "print(\"y\" in colours)"
      ],
      "metadata": {
        "colab": {
          "base_uri": "https://localhost:8080/"
        },
        "id": "q0-vRPw9R7eb",
        "outputId": "4f2b1b82-7d83-4321-c829-725e38d0484d"
      },
      "execution_count": null,
      "outputs": [
        {
          "output_type": "stream",
          "name": "stdout",
          "text": [
            "False\n"
          ]
        }
      ]
    },
    {
      "cell_type": "code",
      "source": [
        "l=['a', 'b','c','d', 'e', 'hello', [1,2,3]]\n",
        "print(l[5])"
      ],
      "metadata": {
        "colab": {
          "base_uri": "https://localhost:8080/"
        },
        "id": "d8MsCD-0SK5L",
        "outputId": "dcbd883b-1f21-46ef-ba1d-ba978f3e72b0"
      },
      "execution_count": null,
      "outputs": [
        {
          "output_type": "stream",
          "name": "stdout",
          "text": [
            "hello\n"
          ]
        }
      ]
    },
    {
      "cell_type": "code",
      "source": [
        "d={0: 'a', 1:'b', 2:'c'}\n",
        "for i in d:\n",
        "  print(i)"
      ],
      "metadata": {
        "colab": {
          "base_uri": "https://localhost:8080/"
        },
        "id": "myutwlM7Sf36",
        "outputId": "6102e3fc-10b4-4697-8b6a-01cc9950176d"
      },
      "execution_count": null,
      "outputs": [
        {
          "output_type": "stream",
          "name": "stdout",
          "text": [
            "0\n",
            "1\n",
            "2\n"
          ]
        }
      ]
    },
    {
      "cell_type": "code",
      "source": [],
      "metadata": {
        "id": "Vr9FGxTnSy0r"
      },
      "execution_count": null,
      "outputs": []
    },
    {
      "cell_type": "code",
      "source": [
        "print(True**False/True*False)"
      ],
      "metadata": {
        "colab": {
          "base_uri": "https://localhost:8080/"
        },
        "id": "gZRRm1TPTRFr",
        "outputId": "805f18b8-6826-4106-cd60-99e47245e266"
      },
      "execution_count": null,
      "outputs": [
        {
          "output_type": "stream",
          "name": "stdout",
          "text": [
            "0.0\n"
          ]
        }
      ]
    }
  ]
}